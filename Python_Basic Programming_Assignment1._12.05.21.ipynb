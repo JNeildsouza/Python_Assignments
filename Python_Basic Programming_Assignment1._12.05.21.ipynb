{
 "cells": [
  {
   "cell_type": "markdown",
   "metadata": {},
   "source": [
    "# Questions\n"
   ]
  },
  {
   "cell_type": "code",
   "execution_count": 17,
   "metadata": {},
   "outputs": [],
   "source": [
    "#1. Write a Python program to print \"Hello Python\"\n",
    "#2. Write a Python program to do arithmetical operations addition and division.?\n",
    "#3. Write a Python program to find the area of a triangle?\n",
    "#4. Write a Python program to swap two variables?\n",
    "#5. Write a Python program to generate a random number?\n"
   ]
  },
  {
   "cell_type": "code",
   "execution_count": 2,
   "metadata": {},
   "outputs": [
    {
     "name": "stdout",
     "output_type": "stream",
     "text": [
      "Hello Python\n"
     ]
    }
   ],
   "source": [
    "#1. Write a Python program to print \"Hello Python\"\n",
    "\n",
    "print(\"Hello Python\")"
   ]
  },
  {
   "cell_type": "code",
   "execution_count": 7,
   "metadata": {},
   "outputs": [
    {
     "name": "stdout",
     "output_type": "stream",
     "text": [
      "Enter your number 7\n",
      "Enter your number 7\n",
      "Addition result for your given input is 14.0\n",
      "Division result for your given input is 1.0\n"
     ]
    }
   ],
   "source": [
    "#2. Write a Python program to do arithmetical operations addition and division.?\n",
    "# In this method we have performed operations without taking users input on what operation he wants to perform. \n",
    "a=float(input(\"Enter your number \"))\n",
    "b=float(input(\"Enter your number \"))\n",
    "Add= a+b\n",
    "Div= a/b\n",
    "print(\"Addition result for your given input is \"+ str(Add))\n",
    "print(\"Division result for your given input is \"+ str(Div))\n",
    "            "
   ]
  },
  {
   "cell_type": "code",
   "execution_count": null,
   "metadata": {},
   "outputs": [],
   "source": [
    "#2.Write a Python program to do arithmetical operations addition and division.?\n",
    "#B.In this method we have taken user input on what operation he wants to perform in his task.\n",
    "a=float(input(\"Enter your number \"))\n",
    "b=float(input(\"Enter your number \"))\n",
    "opt= int(input(\"Click 1 to perform addition\\nClick 2 to perform Division \\n\"))\n",
    "Add= a+b\n",
    "Div= a/b\n",
    "if opt==1:\n",
    "    print(\"Addition result for your given input is \"+ str(Add))\n",
    "elif opt==2:\n",
    "    print(\"Division result for your given input is \"+ str(Div)) \n",
    "else:\n",
    "    print(\"Your Response is not appropriate!!\")\n",
    "    \n",
    "    \n",
    "    "
   ]
  },
  {
   "cell_type": "code",
   "execution_count": 7,
   "metadata": {},
   "outputs": [
    {
     "name": "stdout",
     "output_type": "stream",
     "text": [
      "Area of Triangle\n",
      "Enter the base of your triangle in cm :9\n",
      "Enter the height of your triangle in cm :9\n",
      "Area of your Triangle is: 40.5 Centimeter Square\n"
     ]
    }
   ],
   "source": [
    "#3. Write a Python program to find the area of a triangle?\n",
    "print(\"Area of Triangle\")\n",
    "base=float(input(\"Enter the base of your triangle in cm :\"))\n",
    "height=float(input(\"Enter the height of your triangle in cm :\"))\n",
    "area=(1/2*base*height)\n",
    "print(\"Area of your Triangle is: \"+ str(area) + \" Centimeter Square\")"
   ]
  },
  {
   "cell_type": "code",
   "execution_count": 10,
   "metadata": {},
   "outputs": [
    {
     "name": "stdout",
     "output_type": "stream",
     "text": [
      "Enter any number:9\n",
      "Enter any number:89\n",
      "New value after swapped 89\n",
      "New value after swapped 9\n"
     ]
    }
   ],
   "source": [
    "#4. Write a Python program to swap two variables?\n",
    "a=int(input(\"Enter any number:\"))\n",
    "b=int(input(\"Enter any number:\"))\n",
    "temp=a\n",
    "a=b\n",
    "b=temp\n",
    "print(\"New value after swapped \"+  str(a))\n",
    "print(\"New value after swapped \"+  str(b))\n"
   ]
  },
  {
   "cell_type": "code",
   "execution_count": 16,
   "metadata": {},
   "outputs": [
    {
     "name": "stdout",
     "output_type": "stream",
     "text": [
      "5821\n"
     ]
    }
   ],
   "source": [
    "#5. Write a Python program to generate a random number?\n",
    "# Importing the random module.\n",
    "# To generate random number in Python, randint() function is used. This function is defined in random module.\n",
    "import random\n",
    "print(random.randint(0,10000))"
   ]
  },
  {
   "cell_type": "code",
   "execution_count": null,
   "metadata": {},
   "outputs": [],
   "source": []
  },
  {
   "cell_type": "code",
   "execution_count": null,
   "metadata": {},
   "outputs": [],
   "source": []
  }
 ],
 "metadata": {
  "kernelspec": {
   "display_name": "Python 3",
   "language": "python",
   "name": "python3"
  },
  "language_info": {
   "codemirror_mode": {
    "name": "ipython",
    "version": 3
   },
   "file_extension": ".py",
   "mimetype": "text/x-python",
   "name": "python",
   "nbconvert_exporter": "python",
   "pygments_lexer": "ipython3",
   "version": "3.7.6"
  }
 },
 "nbformat": 4,
 "nbformat_minor": 4
}
